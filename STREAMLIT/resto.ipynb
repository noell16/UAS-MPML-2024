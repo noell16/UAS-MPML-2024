{
 "cells": [
  {
   "cell_type": "code",
   "execution_count": 4,
   "metadata": {},
   "outputs": [
    {
     "name": "stdout",
     "output_type": "stream",
     "text": [
      "      Price  Profitability  MenuCategory_Appetizers  MenuCategory_Beverages  \\\n",
      "0 -1.385057              1                      0.0                     1.0   \n",
      "1 -0.229045              2                      1.0                     0.0   \n",
      "2  0.788029              0                      0.0                     0.0   \n",
      "3  2.256986              0                      0.0                     0.0   \n",
      "4  0.662581              2                      0.0                     0.0   \n",
      "\n",
      "   MenuCategory_Desserts  MenuCategory_Main Course PriceCategory  \n",
      "0                    0.0                       0.0           Low  \n",
      "1                    0.0                       0.0           Low  \n",
      "2                    1.0                       0.0        Medium  \n",
      "3                    0.0                       1.0          High  \n",
      "4                    0.0                       1.0        Medium  \n"
     ]
    }
   ],
   "source": [
    "import pandas as pd\n",
    "import ast\n",
    "from sklearn.preprocessing import OneHotEncoder, LabelEncoder, StandardScaler\n",
    "from sklearn.model_selection import train_test_split, cross_val_score\n",
    "from sklearn.tree import DecisionTreeClassifier\n",
    "from sklearn.metrics import classification_report, accuracy_score\n",
    "\n",
    "# Load data\n",
    "data = pd.read_csv('restaurant_menu_optimization_data.csv')\n",
    "\n",
    "# Preprocessing Ingredients: convert string representation of list to actual list\n",
    "data['Ingredients'] = data['Ingredients'].apply(ast.literal_eval)\n",
    "\n",
    "# One-Hot Encoding for MenuCategory\n",
    "one_hot_encoder = OneHotEncoder()\n",
    "menu_category_encoded = one_hot_encoder.fit_transform(data[['MenuCategory']]).toarray()\n",
    "\n",
    "# Convert to DataFrame and add to original data\n",
    "menu_category_df = pd.DataFrame(menu_category_encoded, columns=one_hot_encoder.get_feature_names_out(['MenuCategory']))\n",
    "data_encoded = pd.concat([data, menu_category_df], axis=1)\n",
    "\n",
    "# Label Encoding for Profitability\n",
    "label_encoder = LabelEncoder()\n",
    "data_encoded['Profitability'] = label_encoder.fit_transform(data_encoded['Profitability'])\n",
    "\n",
    "# Standardize the Price column\n",
    "scaler = StandardScaler()\n",
    "data_encoded['Price'] = scaler.fit_transform(data_encoded[['Price']])\n",
    "\n",
    "# Define the bins and labels for categorization\n",
    "bins = [-float('inf'), -1, 0, 1]  # Adjust bins according to the actual price ranges\n",
    "labels = ['Low', 'Medium', 'High']\n",
    "\n",
    "# Categorize Price\n",
    "data_encoded['PriceCategory'] = pd.cut(data_encoded['Price'], bins=len(labels), labels=labels)\n",
    "\n",
    "# Drop original categorical columns that were encoded\n",
    "data_encoded = data_encoded.drop(columns=['MenuCategory', 'MenuItem', 'Ingredients', 'RestaurantID'])\n",
    "\n",
    "# Display the first few rows of the encoded data\n",
    "print(data_encoded.head())\n",
    "\n",
    "# Pisahkan fitur dan target\n",
    "X = data_encoded.drop(columns=['Price', 'PriceCategory'])\n",
    "y = data_encoded['PriceCategory']\n",
    "\n",
    "# Pisahkan data menjadi data pelatihan dan data pengujian\n",
    "X_train, X_test, y_train, y_test = train_test_split(X, y, test_size=0.2, random_state=42)\n",
    "\n",
    "#Decision tree\n",
    "# Inisialisasi model Decision Tree\n",
    "dt_classifier = DecisionTreeClassifier(random_state=42)\n",
    "\n",
    "# Melatih model\n",
    "dt_classifier.fit(X_train, y_train)\n",
    "\n",
    "# Melakukan cross-validation\n",
    "dt_scores = cross_val_score(dt_classifier, X, y, cv=5, scoring='accuracy')\n",
    "dt_accuracy = dt_scores.mean()\n",
    "dt_std = dt_scores.std()\n",
    "\n",
    "# Evaluasi pada data test\n",
    "dt_y_pred = dt_classifier.predict(X_test)\n",
    "dt_test_accuracy = accuracy_score(y_test, dt_y_pred)\n",
    "dt_report = classification_report(y_test, dt_y_pred, output_dict=True)"
   ]
  },
  {
   "cell_type": "code",
   "execution_count": 5,
   "metadata": {},
   "outputs": [],
   "source": [
    "import pickle\n",
    "\n",
    "filename = 'resto_model.sav'\n",
    "pickle.dump(dt_classifier, open(filename,'wb'))"
   ]
  }
 ],
 "metadata": {
  "kernelspec": {
   "display_name": "Python 3",
   "language": "python",
   "name": "python3"
  },
  "language_info": {
   "codemirror_mode": {
    "name": "ipython",
    "version": 3
   },
   "file_extension": ".py",
   "mimetype": "text/x-python",
   "name": "python",
   "nbconvert_exporter": "python",
   "pygments_lexer": "ipython3",
   "version": "3.12.4"
  }
 },
 "nbformat": 4,
 "nbformat_minor": 2
}
